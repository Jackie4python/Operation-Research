{
 "cells": [
  {
   "cell_type": "code",
   "execution_count": 9,
   "metadata": {},
   "outputs": [],
   "source": [
    "import numpy as np\n",
    "import gurobipy as gp\n",
    "from gurobipy import GRB\n",
    "import time "
   ]
  },
  {
   "cell_type": "code",
   "execution_count": 10,
   "metadata": {},
   "outputs": [],
   "source": [
    "def adjacent_matrix(filename):\n",
    "    edge_node = np.loadtxt(filename, dtype = int)\n",
    "    size = np.amax(edge_node)\n",
    "    #print ('The number of vertices is:',size)\n",
    "    adjmatrix = np.zeros((size+1,size+1))\n",
    "\n",
    "    for i in range(edge_node.shape[0]):\n",
    "        adjmatrix[edge_node[i,0], edge_node[i,1]] = 1\n",
    "        adjmatrix[edge_node[i,1], edge_node[i,0]] = 1\n",
    "    return adjmatrix \n",
    "   "
   ]
  },
  {
   "cell_type": "code",
   "execution_count": 21,
   "metadata": {},
   "outputs": [],
   "source": [
    "def max_clique (fliename):\n",
    "    starttime= time.perf_counter()\n",
    "    adjmatrix = adjacent_matrix(fliename)\n",
    "    n=adjmatrix.shape[0]\n",
    "    m = gp.Model() \n",
    "    m.Params.OutputFlag = 0 \n",
    "    # Create binary variables\n",
    "    x = m.addVars(n, vtype = GRB.INTEGER)\n",
    "    # Create objective function\n",
    "    m.setObjective(gp.quicksum(x[i] for i in range (n)),GRB.MAXIMIZE)\n",
    "    # Create constriaints\n",
    "    for i in range (n):\n",
    "        for j in range (i+1,n):\n",
    "            if adjmatrix[i][j]== 0:\n",
    "                m.addConstr(x[i]+x[j]<=1)\n",
    "    \n",
    "    m.optimize()\n",
    "    clique_list = []\n",
    "    for var in m.getVars():\n",
    "        if var.X==1:\n",
    "            clique_list.append(var.VarName)\n",
    "    endtime= time.perf_counter()\n",
    "    Usingtime = endtime - starttime\n",
    "\n",
    "    print('Graph: ', fliename)\n",
    "    print('Maximum Clique Cardinality: ', sum(m.x))\n",
    "    print('Clique vertex',clique_list) \n",
    "    print ('Using Time by seconds :',Usingtime)\n",
    "\n",
    "\n"
   ]
  },
  {
   "cell_type": "code",
   "execution_count": 22,
   "metadata": {},
   "outputs": [
    {
     "name": "stdout",
     "output_type": "stream",
     "text": [
      "Graph:  brock200_2.txt\n",
      "Maximum Clique Cardinality:  12.0\n",
      "Clique vertex ['C27', 'C48', 'C55', 'C70', 'C105', 'C120', 'C121', 'C135', 'C145', 'C149', 'C158', 'C183']\n",
      "Using Time by seconds : 28.46038849999968\n"
     ]
    }
   ],
   "source": [
    "#max_clique('brock200_2.txt')"
   ]
  },
  {
   "cell_type": "code",
   "execution_count": 23,
   "metadata": {},
   "outputs": [
    {
     "name": "stdout",
     "output_type": "stream",
     "text": [
      "Graph:  brock200_1.txt\n",
      "Maximum Clique Cardinality:  21.0\n",
      "Clique vertex ['C4', 'C26', 'C32', 'C41', 'C46', 'C48', 'C83', 'C100', 'C103', 'C104', 'C107', 'C120', 'C122', 'C132', 'C137', 'C138', 'C144', 'C175', 'C180', 'C191', 'C199']\n",
      "Using Time by seconds : 148.1178560999997\n"
     ]
    }
   ],
   "source": [
    "#max_clique('brock200_1.txt')"
   ]
  },
  {
   "cell_type": "code",
   "execution_count": 24,
   "metadata": {},
   "outputs": [
    {
     "name": "stdout",
     "output_type": "stream",
     "text": [
      "Graph:  C125.9.txt\n",
      "Maximum Clique Cardinality:  34.0\n",
      "Clique vertex ['C1', 'C5', 'C7', 'C9', 'C11', 'C17', 'C19', 'C25', 'C29', 'C31', 'C34', 'C40', 'C44', 'C45', 'C49', 'C52', 'C55', 'C66', 'C70', 'C77', 'C79', 'C80', 'C91', 'C96', 'C98', 'C99', 'C103', 'C104', 'C110', 'C114', 'C117', 'C121', 'C122', 'C125']\n",
      "Using Time by seconds : 0.8559578000003967\n"
     ]
    }
   ],
   "source": [
    "max_clique('C125.9.txt')"
   ]
  },
  {
   "cell_type": "code",
   "execution_count": 25,
   "metadata": {},
   "outputs": [
    {
     "name": "stdout",
     "output_type": "stream",
     "text": [
      "Graph:  p_hat300_1.txt\n",
      "Maximum Clique Cardinality:  8.0\n",
      "Clique vertex ['C115', 'C122', 'C133', 'C139', 'C174', 'C190', 'C200', 'C250']\n",
      "Using Time by seconds : 163.07181309999942\n"
     ]
    }
   ],
   "source": [
    "#max_clique('p_hat300_1.txt')"
   ]
  },
  {
   "cell_type": "code",
   "execution_count": 26,
   "metadata": {},
   "outputs": [
    {
     "name": "stdout",
     "output_type": "stream",
     "text": [
      "Graph:  p_hat300_3.txt\n",
      "Maximum Clique Cardinality:  36.0\n",
      "Clique vertex ['C4', 'C18', 'C19', 'C20', 'C21', 'C33', 'C40', 'C49', 'C56', 'C76', 'C89', 'C98', 'C138', 'C139', 'C149', 'C166', 'C174', 'C176', 'C190', 'C199', 'C205', 'C219', 'C221', 'C226', 'C235', 'C239', 'C245', 'C247', 'C252', 'C255', 'C273', 'C290', 'C293', 'C297', 'C298', 'C299']\n",
      "Using Time by seconds : 848.3731278000014\n"
     ]
    }
   ],
   "source": [
    "#max_clique('p_hat300_3.txt')"
   ]
  },
  {
   "cell_type": "code",
   "execution_count": null,
   "metadata": {},
   "outputs": [],
   "source": []
  }
 ],
 "metadata": {
  "interpreter": {
   "hash": "09379bffff40d7887a885813fd63330cd57077dda82ea51edaa1f09887ed8e91"
  },
  "kernelspec": {
   "display_name": "Python 3.9.7 ('base')",
   "language": "python",
   "name": "python3"
  },
  "language_info": {
   "codemirror_mode": {
    "name": "ipython",
    "version": 3
   },
   "file_extension": ".py",
   "mimetype": "text/x-python",
   "name": "python",
   "nbconvert_exporter": "python",
   "pygments_lexer": "ipython3",
   "version": "3.9.7"
  },
  "orig_nbformat": 4
 },
 "nbformat": 4,
 "nbformat_minor": 2
}
