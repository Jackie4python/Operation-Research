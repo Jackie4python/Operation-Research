{
 "cells": [
  {
   "cell_type": "code",
   "execution_count": 2,
   "metadata": {},
   "outputs": [],
   "source": [
    "import numpy as np\n",
    "import collections\n",
    "import time "
   ]
  },
  {
   "cell_type": "code",
   "execution_count": 3,
   "metadata": {},
   "outputs": [],
   "source": [
    "# Define function used to get the adjacency metrix from input graph file\n",
    "def adjacent_matrix(filename):\n",
    "    edge_node = np.loadtxt(filename, dtype = int)\n",
    "    size = np.amax(edge_node)\n",
    "    #print ('The number of vertices is:',size)\n",
    "    adjmatrix = np.zeros((size+1,size+1))\n",
    "\n",
    "    for i in range(edge_node.shape[0]):\n",
    "        adjmatrix[edge_node[i,0], edge_node[i,1]] = 1\n",
    "        adjmatrix[edge_node[i,1], edge_node[i,0]] = 1\n",
    "    adjmatrix=adjmatrix[1:,1:]\n",
    "    return adjmatrix "
   ]
  },
  {
   "cell_type": "code",
   "execution_count": 4,
   "metadata": {},
   "outputs": [],
   "source": [
    "# Get the adjacency matrix, R list(use to store all the vertices in the garph) \n",
    "# and the a dictionary use to store the degree of each vertice\n",
    "def get_paramter(file):\n",
    "    adjM= adjacent_matrix(file)\n",
    "    R = []\n",
    "    R = list (range (0,len(adjM)))\n",
    "    ini_degree = {}\n",
    "    for i in range (adjM.shape[0]):\n",
    "        ini_degree[i]=np.count_nonzero(adjM[i])\n",
    "    ini_degree= dict(sorted(ini_degree.items(), key = lambda x:(x[1])))\n",
    "    return adjM, R, ini_degree\n",
    "\n",
    "    "
   ]
  },
  {
   "cell_type": "code",
   "execution_count": 5,
   "metadata": {},
   "outputs": [],
   "source": [
    "# get a nieghbor list for a vertice\n",
    "def get_neig_list(vertice):\n",
    "    neig_list = []\n",
    "    for j in range(adjM.shape[1]):\n",
    "        if adjM[vertice][j]==1:\n",
    "            neig_list.append(j)\n",
    "    return neig_list"
   ]
  },
  {
   "cell_type": "code",
   "execution_count": 6,
   "metadata": {},
   "outputs": [],
   "source": [
    "# Find the vertice with minimum degree\n",
    "def Find_R_min (R,degree):# pass the R list and degree dictionary\n",
    "    dict= {}\n",
    "    for vertex in R:\n",
    "        dict[vertex]=degree[vertex]\n",
    "        minval = min(dict.values())\n",
    "    Rmin = [k for k, v in dict.items() if v==minval]\n",
    "    return Rmin"
   ]
  },
  {
   "cell_type": "code",
   "execution_count": 7,
   "metadata": {},
   "outputs": [],
   "source": [
    "# If multiple vertices have the same degree, \n",
    "# find the vertice whose neighbors have the minimum degree\n",
    "def ex_deg (Rmin, initial_degree):\n",
    "   \n",
    "    exdeg_list=[]\n",
    "    for i in Rmin:\n",
    "        a=0\n",
    "        for j in range (adjM.shape[1]):\n",
    "            if adjM[i][j]==1:\n",
    "                a += initial_degree[j]\n",
    "        exdeg_list.append (a)\n",
    "    return exdeg_list"
   ]
  },
  {
   "cell_type": "code",
   "execution_count": 8,
   "metadata": {},
   "outputs": [],
   "source": [
    "#Using greedy coloring algorithm to sort the vertices \n",
    "# in a ascending order with respect to their color number\n",
    "# This function is written according to the pseudo code from Tomita & Kameda paper\n",
    "def NUMBER_SORT(R, No={}):\n",
    " \n",
    "  # this part is Numbering  \n",
    "    maxno=0 # initialize the max color number as 0\n",
    "    n = len (R)\n",
    "    C= collections.defaultdict(list) # create a dictionary used to store the vertices with same color number i\n",
    "    C[0] = []# initialize the vertices with color 0 as empty \n",
    "    while len(R):\n",
    "        p = R[0]  # pick the frist vertice in the R\n",
    "        k = 0 # initialize color is 0\n",
    "        p_neighbor = get_neig_list(p)\n",
    "        while set(C[k]).intersection (set(p_neighbor)): # if p's color is same as its neighbor's color, p's color +1 \n",
    "            k += 1\n",
    "        if k > maxno: # if k greater than currect max color, updated max color number\n",
    "            maxno=k\n",
    "            C[maxno]=[]\n",
    "        No[p]=k       # assgin p's color to k \n",
    "        C[k].append (p) # update color k list\n",
    "        R.remove(p) # remove the p form R list \n",
    "    # this part is sorting\n",
    "    R=[None]*n\n",
    "    i=0\n",
    "    for k in range (maxno+1):\n",
    "        for j in range (len(C[k])):\n",
    "            R[i]= C[k][j]\n",
    "            i+=1\n",
    "    return R, No"
   ]
  },
  {
   "cell_type": "code",
   "execution_count": 9,
   "metadata": {},
   "outputs": [],
   "source": [
    "# Using the sorted R list and No dictionary to find a maximum clique \n",
    "# This function is written according to the pseudo code from Tomita & Kameda paper\n",
    "def EXPAND (R, No):# pass the ordered R and No \n",
    "    global Q # store the vertices of a currect clique\n",
    "    global Qmax # store the vertices of the largest clique found so far\n",
    "\n",
    "    No=No.copy()# If without this copy, my code cannot work. I don't know the reason. \n",
    "                # I talked to Haoyang, he recommended me use a copy \n",
    "    while len(R):\n",
    "        p=R[-1] # Start from Picking a vertice p with the max color number No\n",
    "        if (len(Q)+No[p]+1) >len(Qmax):# because the color index starts from 0, so the number of color should plus 1\n",
    "            Q.add (p)                  # add the p to the currect clique\n",
    "            p_neighbor = get_neig_list(p)# get the neighbor list of p\n",
    "            Rp = list ((set(R)).intersection(set(p_neighbor))) # find the new set of candidate vertices, by using intersection of currect R list and neighbors of p\n",
    "            \n",
    "            if len(Rp):\n",
    "                Rp,No_prime =  NUMBER_SORT(Rp) # numbering and sorting based on the new candidate vertices,\n",
    "                \n",
    "                EXPAND(Rp,No_prime) # and expand\n",
    "            elif len(Q)>len(Qmax): # If the currect clique is larger than the maximum clique, replace it\n",
    "                Qmax = Q.copy()\n",
    "                print('Max clique cardinality', len(Qmax))\n",
    "            Q.remove(p) # remove p form Q and updated Q\n",
    "        else:\n",
    "            return\n",
    "        R.remove(p)# remove p form R and updated R\n",
    "    \n",
    "    return Qmax\n",
    "   "
   ]
  },
  {
   "cell_type": "code",
   "execution_count": 10,
   "metadata": {},
   "outputs": [],
   "source": [
    "def start(list, value):\n",
    "    for i in list:\n",
    "        if i != value:\n",
    "            return False\n",
    "    return True"
   ]
  },
  {
   "cell_type": "code",
   "execution_count": 11,
   "metadata": {},
   "outputs": [],
   "source": [
    "def MCR (file):\n",
    "    starttime= time.perf_counter()\n",
    "    global Q\n",
    "    global Qmax\n",
    "    Q = set()\n",
    "    Qmax = set()\n",
    "\n",
    "    global adjM\n",
    "    adjM, R, ini_degree = get_paramter(file) #Get the adjacency matrix, R list and the a dictionary use to store the degree of each vertice\n",
    "\n",
    "    n = len(adjM)# vertice number\n",
    "    i = n-1 # index starts from 0, so i starts from n-1\n",
    "    V = [None]*n  # initialize V as a empty list\n",
    "    R = list (range (0,n)) # the R list used to store all the vertices\n",
    "    Rmin = Find_R_min(R,ini_degree) # Find the vertices with minimum degree\n",
    "    \n",
    "    exdeg_list=[]\n",
    "    degree = ini_degree.copy() # create a copy of degree dict, \n",
    "                               #becasue gegree is updating and still need to pass the original degree to ex_deg function\n",
    "   \n",
    "    while len (Rmin)!= len (R):\n",
    "        if len (Rmin)>=2:       \n",
    "            exdeg_list= ex_deg(Rmin, ini_degree)         #If multiple vertices have the same degree, \n",
    "                                                        # find the vertice whose neighbors have the minimum degree\n",
    "            p_index = exdeg_list.index(min (exdeg_list))\n",
    "            p = Rmin[p_index]\n",
    "           \n",
    "        else:\n",
    "            p= Rmin[0]\n",
    "        V[i]=p\n",
    "        R.remove(p)     # remove p from R list\n",
    "        i-=1\n",
    "        for j in range(len(R)):           # after remove p, the degree of p neighbors should -1\n",
    "            if R[j] in get_neig_list(p):\n",
    "                degree[R[j]]-=1\n",
    "        Rmin= Find_R_min(R,degree)        # update the Rmin based on the new R list\n",
    "    Rmin, No = NUMBER_SORT (Rmin)         # numbering and sorting the new Rmin\n",
    "    for i in range (len (Rmin)):\n",
    "        V[i]= Rmin[i]\n",
    "    m = max (No[q]for q in Rmin)+1        # define m as the max color number in Rmin\n",
    "    mmax = len (Rmin)+max(degree.values())-m\n",
    "    m+=1\n",
    "    i= len (Rmin)\n",
    "    while i <= mmax:\n",
    "        if i > len(V):\n",
    "            if start([degree[q] for q in Rmin], len(Rmin)-1):# to check if the maximum clique is the Rmin\n",
    "                Qmax = Rmin  # updated Qmax\n",
    "        No[V[i]] = m   #assign the V[i] color number as m\n",
    "        m += 1\n",
    "        i += 1    \n",
    "    for i in range(mmax+1, len(V)):\n",
    "        No[V[i]] = max(degree.values()) + 1        \n",
    "    EXPAND(V,No)\n",
    "    endtime= time.perf_counter()\n",
    "    Usingtime = endtime - starttime\n",
    "    print(\"The cardinality of maximum clique is: \",len(Qmax))\n",
    "\n",
    "    print(\"Maximum clique is: \",Qmax)\n",
    "    print ('Using Time{} seconds'.format (Usingtime))"
   ]
  },
  {
   "cell_type": "code",
   "execution_count": 12,
   "metadata": {},
   "outputs": [
    {
     "name": "stdout",
     "output_type": "stream",
     "text": [
      "Max clique cardinality 8\n",
      "Max clique cardinality 9\n",
      "Max clique cardinality 10\n",
      "Max clique cardinality 12\n",
      "The cardinality of maximum clique is:  12\n",
      "Maximum clique is:  {69, 134, 104, 47, 144, 148, 182, 119, 120, 54, 26, 157}\n",
      "Using Time9.9830231 seconds\n"
     ]
    }
   ],
   "source": [
    "MCR ('brock200_2.txt')\n"
   ]
  },
  {
   "cell_type": "code",
   "execution_count": 13,
   "metadata": {},
   "outputs": [],
   "source": [
    "#MCR ('p_hat300_1.txt')"
   ]
  },
  {
   "cell_type": "code",
   "execution_count": 14,
   "metadata": {},
   "outputs": [],
   "source": [
    "#MCR ('C125.9.txt')"
   ]
  },
  {
   "cell_type": "code",
   "execution_count": 15,
   "metadata": {},
   "outputs": [],
   "source": [
    "#MCR('brock200_1.txt')"
   ]
  },
  {
   "cell_type": "code",
   "execution_count": 16,
   "metadata": {},
   "outputs": [],
   "source": [
    "#print (Qmax)"
   ]
  },
  {
   "cell_type": "code",
   "execution_count": 17,
   "metadata": {},
   "outputs": [],
   "source": [
    "#MCR ('p_hat300_3.txt')"
   ]
  },
  {
   "cell_type": "code",
   "execution_count": null,
   "metadata": {},
   "outputs": [],
   "source": []
  }
 ],
 "metadata": {
  "interpreter": {
   "hash": "09379bffff40d7887a885813fd63330cd57077dda82ea51edaa1f09887ed8e91"
  },
  "kernelspec": {
   "display_name": "Python 3.9.7 ('base')",
   "language": "python",
   "name": "python3"
  },
  "language_info": {
   "codemirror_mode": {
    "name": "ipython",
    "version": 3
   },
   "file_extension": ".py",
   "mimetype": "text/x-python",
   "name": "python",
   "nbconvert_exporter": "python",
   "pygments_lexer": "ipython3",
   "version": "3.9.7"
  },
  "orig_nbformat": 4
 },
 "nbformat": 4,
 "nbformat_minor": 2
}
